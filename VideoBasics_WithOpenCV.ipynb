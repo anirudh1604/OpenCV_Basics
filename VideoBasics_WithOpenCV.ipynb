{
 "cells": [
  {
   "cell_type": "code",
   "execution_count": 1,
   "metadata": {
    "ExecuteTime": {
     "end_time": "2020-05-29T13:41:59.635746Z",
     "start_time": "2020-05-29T13:41:59.603281Z"
    }
   },
   "outputs": [],
   "source": [
    "import cv2"
   ]
  },
  {
   "cell_type": "code",
   "execution_count": 2,
   "metadata": {
    "ExecuteTime": {
     "end_time": "2020-05-29T13:42:00.857568Z",
     "start_time": "2020-05-29T13:42:00.852374Z"
    }
   },
   "outputs": [],
   "source": [
    "#Open the file from previous checkpoint\n",
    "cap =cv2.VideoCapture('myvideo1.mkv')"
   ]
  },
  {
   "cell_type": "code",
   "execution_count": 3,
   "metadata": {
    "ExecuteTime": {
     "end_time": "2020-05-29T13:42:02.188325Z",
     "start_time": "2020-05-29T13:42:02.184221Z"
    }
   },
   "outputs": [],
   "source": [
    "#In case path is wrong\n",
    "if cap.isOpened()==False:\n",
    "    print('Error! Check Your file path')"
   ]
  },
  {
   "cell_type": "code",
   "execution_count": 4,
   "metadata": {
    "ExecuteTime": {
     "end_time": "2020-05-29T13:42:10.671731Z",
     "start_time": "2020-05-29T13:42:08.138768Z"
    }
   },
   "outputs": [],
   "source": [
    "while cap.isOpened():\n",
    "    ret,frame= cap.read()\n",
    "    if ret== True :\n",
    "        \n",
    "        ## We wrote it with 20 fps so we want 1/20 sec delay\n",
    "        #time.sleep(20)\n",
    "        \n",
    "        #Show it\n",
    "        cv2.imshow('frame',frame)\n",
    "        if cv2.waitKey(15) & 0xFF == 27:\n",
    "            break\n",
    "\n",
    "cap.release()\n",
    "cv2.destroyAllWindows()"
   ]
  },
  {
   "cell_type": "code",
   "execution_count": 5,
   "metadata": {
    "ExecuteTime": {
     "end_time": "2020-05-29T13:42:15.116013Z",
     "start_time": "2020-05-29T13:42:14.960356Z"
    }
   },
   "outputs": [],
   "source": [
    "cap=cv2.VideoCapture(0)\n",
    "width=int(cap.get(cv2.CAP_PROP_FRAME_WIDTH))\n",
    "height=int(cap.get(cv2.CAP_PROP_FRAME_HEIGHT))"
   ]
  },
  {
   "cell_type": "code",
   "execution_count": 6,
   "metadata": {
    "ExecuteTime": {
     "end_time": "2020-05-29T13:42:17.559230Z",
     "start_time": "2020-05-29T13:42:17.547798Z"
    }
   },
   "outputs": [],
   "source": [
    "## Top left corner\n",
    "\n",
    "x= width //2\n",
    "y= height //2\n",
    "\n",
    "### Rectangle width and height, which will be actually 1/4 of the Actual Window Size\n",
    "\n",
    "w= width // 4\n",
    "h = height // 4"
   ]
  },
  {
   "cell_type": "code",
   "execution_count": 7,
   "metadata": {
    "ExecuteTime": {
     "end_time": "2020-05-29T13:42:24.716659Z",
     "start_time": "2020-05-29T13:42:19.494466Z"
    }
   },
   "outputs": [],
   "source": [
    "## Bottom Right Corner == > x+w ,y+h\n",
    "\n",
    "while True:\n",
    "    ret,frame = cap.read()\n",
    "    #Rectangle Frame\n",
    "    cv2.rectangle(frame,(x,y),\n",
    "                 (x+w,y+h),\n",
    "                 color=(255,0,255),\n",
    "                 thickness=5)\n",
    "    \n",
    "    ## show it\n",
    "    cv2.imshow('frame',frame)\n",
    "    ### 27 is Escape Key. You can press any key like 'q'.\n",
    "    if cv2.waitKey(3) & 0xFF == 27:\n",
    "        break\n",
    "### Never forget to release and then to destroy\n",
    "cap.release()\n",
    "#output.release()\n",
    "cv2.destroyAllWindows()\n",
    "    "
   ]
  },
  {
   "cell_type": "code",
   "execution_count": 8,
   "metadata": {
    "ExecuteTime": {
     "end_time": "2020-05-29T13:42:34.089646Z",
     "start_time": "2020-05-29T13:42:26.752916Z"
    }
   },
   "outputs": [],
   "source": [
    "##Callback function for Mouse,rectangle\n",
    "\n",
    "\n",
    "##TO define rectangle , we need top_left and bottom_right\n",
    "def draw_rectangle(event,x,y,flags,param):\n",
    "\n",
    "    #Check your global parameters\n",
    "\n",
    "    global pt1,pt2,top_left_clicked,bottom_right_clicked\n",
    "\n",
    "    #Create an event for Left Button Down and assigned it to an event\n",
    "    \n",
    "    if event== cv2.EVENT_LBUTTONDOWN:\n",
    "        #Reset rectangle\n",
    "        if top_left_clicked ==True and bottom_right_clicked == True:\n",
    "            pt1=(0,0)\n",
    "            pt2=(0,0)\n",
    "            top_left_clicked=False\n",
    "            bottom_right_clicked = False\n",
    "            \n",
    "        if top_left_clicked == False:\n",
    "            pt1=(x,y)\n",
    "            top_left_clicked= True\n",
    "            \n",
    "        elif  bottom_right_clicked == False:\n",
    "            pt2=(x,y)\n",
    "            bottom_right_clicked = True\n",
    "            \n",
    "pt1=(0,0)\n",
    "pt2=(0,0)\n",
    "top_left_clicked = False\n",
    "bottom_right_clicked = False\n",
    "\n",
    "\n",
    "#Take a video\n",
    "cap = cv2.VideoCapture(0)\n",
    "cv2.namedWindow('Test' )\n",
    "\n",
    "##Set A mouse callback\n",
    "cv2.setMouseCallback('Test',draw_rectangle)\n",
    "\n",
    "\n",
    "while True:\n",
    "    #capture the frame\n",
    "    ret,frame = cap.read()\n",
    "    ##based on global variable draw the frame\n",
    "    if top_left_clicked == True:\n",
    "        #Draw a circle on the frame\n",
    "        cv2.circle(frame,center=pt1,radius=5,color=(255,0,255),thickness=-1)\n",
    "     ##Draw a Rectangle on the frame\n",
    "    if top_left_clicked == True and bottom_right_clicked == True:\n",
    "        cv2.rectangle(frame,pt1,pt2,color=(0,0,255),thickness=3)\n",
    "    \n",
    "    #show the frame\n",
    "    cv2.imshow('Test',frame)\n",
    "    ### 27 is Escape Key. You can press any key like 'q'.\n",
    "    if cv2.waitKey(3) & 0xFF == 27:\n",
    "        break\n",
    "### Never forget to release and then to destroy\n",
    "cap.release()\n",
    "cv2.destroyAllWindows()\n"
   ]
  },
  {
   "cell_type": "code",
   "execution_count": 9,
   "metadata": {
    "ExecuteTime": {
     "end_time": "2020-05-29T13:42:38.248699Z",
     "start_time": "2020-05-29T13:42:35.602689Z"
    }
   },
   "outputs": [],
   "source": [
    "##Callback function for Mouse,rectangle\n",
    "\n",
    "def draw_circle(event,x,y,flags,param):\n",
    "\n",
    "    #Check your global parameters\n",
    "\n",
    "    global center, clicked \n",
    "    #Create an event for Left Button Down and assigned it to an event\n",
    "    \n",
    "    if event == cv2.EVENT_LBUTTONDOWN:\n",
    "        center=(x,y)\n",
    "        clicked=False\n",
    "        \n",
    "    \n",
    "    if event== cv2.EVENT_LBUTTONUP:\n",
    "        clicked=True\n",
    "       \n",
    "center=(0,0)\n",
    "clicked=False\n",
    "cap = cv2.VideoCapture(0)\n",
    "cv2.namedWindow('Testing')\n",
    "\n",
    "##Set A mouse callback\n",
    "cv2.setMouseCallback('Testing',draw_circle)\n",
    "\n",
    "\n",
    "while True:\n",
    "    ret,frame = cap.read()\n",
    "    ##based on global variable draw the frame\n",
    "    if clicked:\n",
    "        cv2.circle(frame,center=center,radius=50,color=(255,0,255),thickness=3)\n",
    "    \n",
    "    cv2.imshow('Testing',frame)\n",
    "    ### 27 is Escape Key. You can press any key like 'q'.\n",
    "    if cv2.waitKey(3) & 0xFF == 27:\n",
    "        break\n",
    "### Never forget to release and then to destroy\n",
    "cap.release()\n",
    "cv2.destroyAllWindows()\n"
   ]
  },
  {
   "cell_type": "code",
   "execution_count": 10,
   "metadata": {
    "ExecuteTime": {
     "end_time": "2020-05-29T13:42:41.788734Z",
     "start_time": "2020-05-29T13:42:41.595980Z"
    }
   },
   "outputs": [],
   "source": [
    "import numpy as np\n",
    "import matplotlib.pyplot as plt\n",
    "%matplotlib inline"
   ]
  },
  {
   "cell_type": "code",
   "execution_count": 11,
   "metadata": {
    "ExecuteTime": {
     "end_time": "2020-05-29T13:42:42.842583Z",
     "start_time": "2020-05-29T13:42:42.793461Z"
    }
   },
   "outputs": [],
   "source": [
    "##OpenCV comes with pretrained cascade files\n",
    "face_cascade=cv2.CascadeClassifier ('haarcascade_frontalface_default.xml')\n",
    "\n",
    "def detect_face(img):\n",
    "    face_img=img.copy()\n",
    "    face_rectangle=face_cascade.detectMultiScale(face_img)\n",
    "    for (x,y,w,h) in face_rectangle:\n",
    "        cv2.rectangle(face_img,(x,y),(x+w,y+h),(255,255,255),10)\n",
    "        \n",
    "    return face_img"
   ]
  },
  {
   "cell_type": "code",
   "execution_count": 12,
   "metadata": {
    "ExecuteTime": {
     "end_time": "2020-05-29T13:45:19.476477Z",
     "start_time": "2020-05-29T13:42:44.769866Z"
    }
   },
   "outputs": [],
   "source": [
    "cap=cv2.VideoCapture(0)\n",
    "while True:\n",
    "    ret, frame = cap.read()\n",
    "    frame= detect_face(frame)\n",
    "    cv2.imshow('Face Detection Video',frame)\n",
    "    ### 27 is Escape Key. You can press any key like 'q'.\n",
    "    if cv2.waitKey(5) & 0xFF == 27:\n",
    "        break\n",
    "### Never forget to release and then to destroy\n",
    "cap.release()\n",
    "cv2.destroyAllWindows()"
   ]
  }
 ],
 "metadata": {
  "kernelspec": {
   "display_name": "Python 3",
   "language": "python",
   "name": "python3"
  },
  "language_info": {
   "codemirror_mode": {
    "name": "ipython",
    "version": 3
   },
   "file_extension": ".py",
   "mimetype": "text/x-python",
   "name": "python",
   "nbconvert_exporter": "python",
   "pygments_lexer": "ipython3",
   "version": "3.7.7"
  },
  "toc": {
   "base_numbering": 1,
   "nav_menu": {},
   "number_sections": true,
   "sideBar": true,
   "skip_h1_title": false,
   "title_cell": "Table of Contents",
   "title_sidebar": "Contents",
   "toc_cell": false,
   "toc_position": {},
   "toc_section_display": true,
   "toc_window_display": false
  },
  "varInspector": {
   "cols": {
    "lenName": 16,
    "lenType": 16,
    "lenVar": 40
   },
   "kernels_config": {
    "python": {
     "delete_cmd_postfix": "",
     "delete_cmd_prefix": "del ",
     "library": "var_list.py",
     "varRefreshCmd": "print(var_dic_list())"
    },
    "r": {
     "delete_cmd_postfix": ") ",
     "delete_cmd_prefix": "rm(",
     "library": "var_list.r",
     "varRefreshCmd": "cat(var_dic_list()) "
    }
   },
   "types_to_exclude": [
    "module",
    "function",
    "builtin_function_or_method",
    "instance",
    "_Feature"
   ],
   "window_display": false
  }
 },
 "nbformat": 4,
 "nbformat_minor": 4
}
